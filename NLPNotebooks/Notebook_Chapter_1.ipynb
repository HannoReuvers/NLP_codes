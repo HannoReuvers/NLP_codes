{
 "cells": [
  {
   "cell_type": "markdown",
   "metadata": {},
   "source": [
    "# Notebook 1"
   ]
  },
  {
   "cell_type": "markdown",
   "metadata": {},
   "source": [
    "**NOTE:** The cell below loads the required packages and retrieves the location of the **Large Movie Review Dataset** from a configuration file. After downloading the data, the parent folder should be specified. Please open the *template_config_file.json*, insert the path on your computer with the downloaded data, and save this json file as *config_file.json*. All notebooks will fetch the path from this file, so it has to be provided only once."
   ]
  },
  {
   "cell_type": "code",
   "execution_count": null,
   "metadata": {},
   "outputs": [],
   "source": [
    "# LOAD PACKAGES\n",
    "import json\n",
    "import nltk\n",
    "nltk.download('punkt')\n",
    "from nltk.stem import PorterStemmer\n",
    "from nltk.corpus import stopwords\n",
    "import re\n",
    "\n",
    "porter_stemmer = PorterStemmer()\n",
    "import os\n",
    "\n",
    "with open('../config/config_file.json') as f:\n",
    "    config_file = json.load(f)\n",
    "\n",
    "# Read review data folder from configuration file\n",
    "movie_reviews_folder = config_file['movie_review_location']\n",
    "print(f\"Movie reviews will be loaded from: {movie_reviews_folder}\")"
   ]
  },
  {
   "cell_type": "markdown",
   "metadata": {},
   "source": [
    "### Movie review examples"
   ]
  },
  {
   "cell_type": "code",
   "execution_count": null,
   "metadata": {},
   "outputs": [],
   "source": [
    "# Specify files to display\n",
    "filename_positive_review = \"3247_10.txt\"\n",
    "filename_negative_review = \"2331_1.txt\"\n",
    "\n",
    "# Read reviews and print\n",
    "with open(os.path.join(movie_reviews_folder, \"aclImdb\", \"train\", \"pos\", filename_positive_review), 'r') as file:\n",
    "    selected_pos_review = file.read()\n",
    "with open(os.path.join(movie_reviews_folder, \"aclImdb\", \"train\", \"neg\", filename_negative_review), 'r') as file:\n",
    "    selected_neg_review = file.read()\n",
    "print(\"Selected positive review:\\n\", selected_pos_review, \"\\n\")\n",
    "print(\"Selected negative review:\\n\", selected_neg_review)\n"
   ]
  },
  {
   "cell_type": "markdown",
   "metadata": {},
   "source": [
    "### Print list of stopwords"
   ]
  },
  {
   "cell_type": "code",
   "execution_count": null,
   "metadata": {},
   "outputs": [],
   "source": [
    "english_stopwords = nltk.corpus.stopwords.words('english')\n",
    "print(\"Number of stop words:\", len(english_stopwords))\n",
    "for stop_w in english_stopwords:\n",
    "    print(f\"- {stop_w}\")"
   ]
  },
  {
   "cell_type": "code",
   "execution_count": null,
   "metadata": {},
   "outputs": [],
   "source": [
    "print(f\"Original review: {selected_pos_review}\")\n",
    "\n",
    "# Step 1: Remove punctuation\n",
    "review_no_punctuation = re.sub(r'[\".,!?;-]+', '', selected_pos_review)\n",
    "print(f\"Review without pucntuation: {review_no_punctuation}\")\n",
    "\n",
    "# Step 2: Tokenize string\n",
    "review_tokens = nltk.word_tokenize(review_no_punctuation)\n",
    "print(f\"Output of nltk.word_tokenize: {review_tokens}\")\n",
    "\n",
    "# Step 3: Enforce lower case and omit non-text\n",
    "lower_case_characters_only = [ ch.lower() for ch in review_tokens if ch.isalpha()]\n",
    "print(f\"Omit strings containing non-text and set to lower case: {lower_case_characters_only}\")\n",
    "\n",
    "# Step 4: Remove stop words\n",
    "output_word_list = [word for word in lower_case_characters_only if word not in english_stopwords]\n",
    "print(f\"Final result having removed stop words: {output_word_list}\")\n",
    "\n",
    "def process_imdb_review_for_Bayes(imdb_review, stopwords, print_details = False):\n",
    "    # Step 1: Remove all punctuation\n",
    "    temp_data = re.sub(r'[\".,!?;-]+', '', imdb_review)\n",
    "    # Step 2: Tokenize\n",
    "    temp_data = nltk.word_tokenize(temp_data)\n",
    "    # Step 3: All lower case and omit non-text\n",
    "    temp_data = [ ch.lower() for ch in temp_data if ch.isalpha()]\n",
    "    # Step 4: Remove stop words\n",
    "    output_for_Bayes = [word for word in temp_data if word not in english_stopwords]\n",
    "\n",
    "    if print_details:\n",
    "        print(\"\\nORIGINAL: \", imdb_review)\n",
    "        print(\"RESULT AFTER PRE-PROCESSING:\", output_for_Bayes, \"\\n\")\n",
    "\n",
    "    return output_for_Bayes \n",
    "\n",
    "\n",
    "process_imdb_review_for_Bayes(selected_pos_review, english_stopwords, print_details=True)"
   ]
  },
  {
   "cell_type": "markdown",
   "metadata": {},
   "source": [
    "### Function"
   ]
  },
  {
   "cell_type": "code",
   "execution_count": null,
   "metadata": {},
   "outputs": [],
   "source": [
    "tokenized_review = nltk.word_tokenize(selected_neg_review)\n",
    "\n",
    "output_for_Bayes= [porter_stemmer.stem(word) for word in tokenized_review]\n",
    "\n",
    "print(output_for_Bayes)\n"
   ]
  }
 ],
 "metadata": {
  "kernelspec": {
   "display_name": "Python 3",
   "language": "python",
   "name": "python3"
  },
  "language_info": {
   "codemirror_mode": {
    "name": "ipython",
    "version": 3
   },
   "file_extension": ".py",
   "mimetype": "text/x-python",
   "name": "python",
   "nbconvert_exporter": "python",
   "pygments_lexer": "ipython3",
   "version": "3.9.6"
  }
 },
 "nbformat": 4,
 "nbformat_minor": 2
}
