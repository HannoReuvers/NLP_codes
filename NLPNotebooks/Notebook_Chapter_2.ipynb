{
 "cells": [
  {
   "cell_type": "markdown",
   "metadata": {},
   "source": [
    "# Notebook 2"
   ]
  },
  {
   "cell_type": "markdown",
   "metadata": {},
   "source": [
    "**NOTE:** The cell below loads the required packages and retrieves the location of the **Large Movie Review Dataset** from a configuration file. After downloading the data, the parent folder should be specified. Please open the *template_config_file.json*, insert the path on your computer with the downloaded data, and save this json file as *config_file.json*. All notebooks will fetch the path from this file, so it has to be provided only once."
   ]
  },
  {
   "cell_type": "code",
   "execution_count": null,
   "metadata": {},
   "outputs": [],
   "source": [
    "# LOAD PACKAGES\n",
    "import json\n",
    "import nltk\n",
    "nltk.download('punkt')\n",
    "from scipy.stats import beta\n",
    "from nltk.stem import PorterStemmer\n",
    "from nltk.corpus import stopwords\n",
    "import numpy as np\n",
    "import pandas as pd\n",
    "import plotly.express as px\n",
    "import re\n",
    "\n",
    "porter_stemmer = PorterStemmer()\n",
    "import os\n",
    "\n",
    "with open('../config/config_file.json') as f:\n",
    "    config_file = json.load(f)\n",
    "\n",
    "# Read review data folder from configuration file\n",
    "movie_reviews_folder = config_file['movie_review_location']\n",
    "print(f\"Movie reviews will be loaded from: {movie_reviews_folder}\")"
   ]
  },
  {
   "cell_type": "markdown",
   "metadata": {},
   "source": [
    "### Prior and posterior distribution for Example 2.1"
   ]
  },
  {
   "cell_type": "code",
   "execution_count": null,
   "metadata": {},
   "outputs": [],
   "source": [
    "# Grid of x values\n",
    "theta_values = np.linspace(0, 1, 51)\n",
    "\n",
    "# Prior distribution\n",
    "alpha_prior = 1\n",
    "beta_prior = 1\n",
    "prior_df = pd.DataFrame()\n",
    "prior_df[\"theta\"] = theta_values\n",
    "prior_df[\"Prior distribution\"] = beta.pdf(theta_values, alpha_prior, beta_prior)\n",
    "\n",
    "fig_prior = px.line(prior_df, x=\"theta\", y=\"Prior distribution\")\n",
    "fig_prior.update_yaxes(range=[0, 3])\n",
    "fig_prior.update_traces(line={'width': 5})\n",
    "fig_prior.update_layout(font=dict(size=20), xaxis = dict(tickfont = dict(size=20)), yaxis = dict(tickfont = dict(size=20)))\n",
    "fig_prior.show()\n",
    "\n",
    "# Posterior distribution\n",
    "coin_tosses_seq = \"HHTHTTHHHT\"\n",
    "n = len(coin_tosses_seq)\n",
    "n_H = coin_tosses_seq.count('H')\n",
    "\n",
    "print(f\"Sequence length: {n}\")\n",
    "print(f\"Number of heads: {n_H}\")\n",
    "\n",
    "alpha_posterior = n_H+alpha_prior\n",
    "beta_posterior = n-n_H+beta_prior\n",
    "\n",
    "posterior_df = pd.DataFrame()\n",
    "posterior_df[\"theta\"] = theta_values\n",
    "posterior_df[\"Posterior distribution\"] = beta.pdf(theta_values, alpha_posterior, beta_posterior)\n",
    "\n",
    "fig_posterior = px.line(posterior_df, x=\"theta\", y=\"Posterior distribution\")\n",
    "fig_posterior.update_yaxes(range=[0, 3])\n",
    "fig_posterior.update_traces(line={'width': 5})\n",
    "fig_posterior.update_layout(font=dict(size=20), xaxis = dict(tickfont = dict(size=20)), yaxis = dict(tickfont = dict(size=20)))\n",
    "fig_posterior.show()\n",
    "\n"
   ]
  }
 ],
 "metadata": {
  "kernelspec": {
   "display_name": "Python 3",
   "language": "python",
   "name": "python3"
  },
  "language_info": {
   "codemirror_mode": {
    "name": "ipython",
    "version": 3
   },
   "file_extension": ".py",
   "mimetype": "text/x-python",
   "name": "python",
   "nbconvert_exporter": "python",
   "pygments_lexer": "ipython3",
   "version": "3.9.6"
  }
 },
 "nbformat": 4,
 "nbformat_minor": 2
}
